{
 "cells": [
  {
   "cell_type": "code",
   "execution_count": 1,
   "id": "be5516e6-16d1-419a-b8d5-371286086940",
   "metadata": {},
   "outputs": [],
   "source": [
    "import pandas as pd\n",
    "import numpy as np\n",
    "import matplotlib.pyplot as plt"
   ]
  },
  {
   "cell_type": "code",
   "execution_count": 2,
   "id": "278829e6-18f5-4cda-8062-2939678a01fd",
   "metadata": {},
   "outputs": [
    {
     "name": "stderr",
     "output_type": "stream",
     "text": [
      "C:\\Users\\cools\\AppData\\Local\\Temp\\ipykernel_29956\\1834361638.py:16: DtypeWarning: Columns (25) have mixed types. Specify dtype option on import or set low_memory=False.\n",
      "  supp = pd.read_csv('nfl-big-data-bowl-2026-analytics/114239_nfl_competition_files_published_analytics_final/supplementary_data.csv')\n"
     ]
    }
   ],
   "source": [
    "# Import data\n",
    "\n",
    "weeks = range(1, 19)\n",
    "before_dfs = []\n",
    "after_dfs = []\n",
    "\n",
    "for week in weeks:\n",
    "    week_str = f\"{week:02d}\"  # Zero-padded week string\n",
    "    before_file = f\"nfl-big-data-bowl-2026-analytics/114239_nfl_competition_files_published_analytics_final/train/input_2023_w{week_str}.csv\"\n",
    "    after_file  = f\"nfl-big-data-bowl-2026-analytics/114239_nfl_competition_files_published_analytics_final/train/output_2023_w{week_str}.csv\"\n",
    "    before_dfs.append(pd.read_csv(before_file))\n",
    "    after_dfs.append(pd.read_csv(after_file))\n",
    "\n",
    "before_pass = pd.concat(before_dfs, ignore_index=True)\n",
    "after_pass = pd.concat(after_dfs, ignore_index=True)\n",
    "supp = pd.read_csv('nfl-big-data-bowl-2026-analytics/114239_nfl_competition_files_published_analytics_final/supplementary_data.csv')\n"
   ]
  },
  {
   "cell_type": "code",
   "execution_count": 3,
   "id": "62f7aa6f-5aab-4f76-ae9c-e97a4af1955c",
   "metadata": {},
   "outputs": [],
   "source": [
    "# Find max frame for each play (right as the pass is thrown), filter by receiver, filter by speed/accel, and remove GO routes\n",
    "max_frames = (\n",
    "    before_pass.groupby(['game_id', 'play_id'], as_index=False)['frame_id']\n",
    "    .max()\n",
    "    .rename(columns={'frame_id': 'max_frame_id'})\n",
    ")\n",
    "max_frames = max_frames[max_frames['max_frame_id'] <=30]\n",
    "receiver_f1 = before_pass[before_pass['player_role'] == 'Targeted Receiver']\n",
    "receiver_f2 = receiver_f1.merge(max_frames, left_on = ['game_id', 'play_id', 'frame_id'], right_on =['game_id', 'play_id', 'max_frame_id'], how = 'inner')\n",
    "receiver_supp = receiver_f2.merge(supp, on = ['game_id', 'play_id'])\n",
    "\n",
    "receiver_supp = receiver_supp[(receiver_supp['s'] >= 5) | (receiver_supp['a'] >= 5) ]\n",
    "receiver_supp = receiver_supp[receiver_supp['route_of_targeted_receiver'] != 'GO']"
   ]
  },
  {
   "cell_type": "code",
   "execution_count": 287,
   "id": "f92cd2d5-2429-427e-a12a-8ff834f94621",
   "metadata": {},
   "outputs": [],
   "source": [
    "\n",
    "\n",
    "FPS = 10          # frames per second (NGS pre/early is 10 Hz)\n",
    "RUN_LEN = 5       # need 5 straight frames\n",
    "THETA = 35.0      # deg change vs release heading\n",
    "\n",
    "def ang_deg(dx, dy):\n",
    "    return (np.degrees(np.arctan2(dy, dx)) + 360) % 360\n",
    "\n",
    "def ang_diff(a, b):\n",
    "    return abs((a - b + 180) % 360 - 180)  # 0..180 smallest diff\n",
    "\n",
    "# 1) keep only the targeted receiver in after_pass\n",
    "keys = [\"game_id\", \"play_id\", \"nfl_id\"]\n",
    "ap = after_pass.merge(receiver_supp[keys].drop_duplicates(), on=keys, how=\"inner\")\n",
    "\n",
    "# 2) heading per frame (from frame t-1 -> t) for the WR\n",
    "ap = ap.sort_values(keys + [\"frame_id\"]).copy()\n",
    "ap[\"dx\"] = ap.groupby(keys)[\"x\"].diff()\n",
    "ap[\"dy\"] = ap.groupby(keys)[\"y\"].diff()\n",
    "ap[\"heading_deg\"] = ang_deg(ap[\"dx\"], ap[\"dy\"])\n",
    "\n",
    "# 3) heading at release: vector from release point -> first after-pass frame\n",
    "first_ap = ap.groupby(keys, as_index=False).first()\n",
    "rel_vec = first_ap.merge(receiver_supp, on=keys, suffixes=(\"_ap\", \"_rel\"))\n",
    "rel_vec[\"heading_rel_deg\"] = ang_deg(rel_vec[\"x_ap\"] - rel_vec[\"x_rel\"],\n",
    "                                     rel_vec[\"y_ap\"] - rel_vec[\"y_rel\"])\n",
    "rel_head = rel_vec[keys + [\"heading_rel_deg\", \"frame_id_ap\"]].rename(columns={\"frame_id_ap\":\"first_after_frame\"})\n",
    "\n",
    "# 4) join release heading back to all after-pass frames\n",
    "ap = ap.merge(rel_head, on=keys, how=\"left\")\n",
    "ap[\"hdiff\"] = ang_diff(ap[\"heading_deg\"], ap[\"heading_rel_deg\"])\n",
    "\n",
    "# 5) find first run of RUN_LEN consecutive frames with hdiff >= THETA\n",
    "ap[\"is_cutlike\"] = ap[\"hdiff\"] >= THETA\n",
    "ap[\"run_sum\"] = (\n",
    "    ap.groupby(keys)[\"is_cutlike\"]\n",
    "      .apply(lambda s: s.rolling(RUN_LEN, min_periods=RUN_LEN).sum())\n",
    "      .reset_index(level=keys, drop=True)\n",
    ")\n",
    "\n",
    "# take the first frame where the window sum hits RUN_LEN\n",
    "cut_rows = (\n",
    "    ap.loc[ap[\"run_sum\"] == RUN_LEN]\n",
    "      .groupby(keys, as_index=False)\n",
    "      .first()[keys + [\"frame_id\", \"first_after_frame\", \"heading_rel_deg\"]]\n",
    "      .rename(columns={\"frame_id\":\"t_cut_frame\"})\n",
    ")\n",
    "\n",
    "# 6) assemble per-play result\n",
    "res = receiver_supp[keys].drop_duplicates().merge(cut_rows, on=keys, how=\"inner\")\n",
    "res[\"is_timing\"] = res[\"t_cut_frame\"].notna()\n",
    "res[\"time_to_cut_s\"] = (res[\"t_cut_frame\"] - res[\"first_after_frame\"]) / FPS\n",
    "res = res.drop(columns=[\"first_after_frame\"])\n",
    "\n",
    "# columns: game_id, play_id, nfl_id, is_timing, t_cut_frame, time_to_cut_s, heading_rel_deg\n"
   ]
  }
 ],
 "metadata": {
  "kernelspec": {
   "display_name": "Python 3 (ipykernel)",
   "language": "python",
   "name": "python3"
  },
  "language_info": {
   "codemirror_mode": {
    "name": "ipython",
    "version": 3
   },
   "file_extension": ".py",
   "mimetype": "text/x-python",
   "name": "python",
   "nbconvert_exporter": "python",
   "pygments_lexer": "ipython3",
   "version": "3.11.13"
  }
 },
 "nbformat": 4,
 "nbformat_minor": 5
}
